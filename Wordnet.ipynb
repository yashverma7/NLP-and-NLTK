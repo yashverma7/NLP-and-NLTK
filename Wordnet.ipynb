{
  "nbformat": 4,
  "nbformat_minor": 0,
  "metadata": {
    "colab": {
      "name": "Untitled3.ipynb",
      "provenance": [],
      "collapsed_sections": []
    },
    "kernelspec": {
      "name": "python3",
      "display_name": "Python 3"
    }
  },
  "cells": [
    {
      "cell_type": "markdown",
      "metadata": {
        "id": "-XWGfaxluZ2W"
      },
      "source": [
        "Lab 8"
      ]
    },
    {
      "cell_type": "markdown",
      "metadata": {
        "id": "kSxjEfRssxhn"
      },
      "source": [
        "**WordNet** is a large lexical database of English. \n",
        "\n",
        "Nouns, verbs, adjectives and adverbs are grouped into sets of cognitive synonyms (synsets), each expressing a distinct concept. Synsets are interlinked by means of conceptual-semantic and lexical relations.\n",
        "WordNet’s structure makes it a useful tool for computational linguistics and natural language processing.\n",
        "\n",
        "WordNet superficially resembles a thesaurus, in that it groups words together based on their meanings. However, there are some important distinctions.\n",
        "\n",
        "* First, WordNet interlinks not just word forms—strings of letters—but specific senses of words. As a result, words that are found in close proximity to one another in the network are semantically disambiguated.\n",
        "\n",
        "\n",
        "\n",
        "\n",
        "* Second, WordNet labels the semantic relations among words, whereas the \n",
        "groupings of words in a thesaurus does not follow any explicit pattern other than meaning similarity."
      ]
    },
    {
      "cell_type": "code",
      "metadata": {
        "id": "3PnNhjJgA4wJ"
      },
      "source": [
        "from nltk.corpus import wordnet"
      ],
      "execution_count": 2,
      "outputs": []
    },
    {
      "cell_type": "code",
      "metadata": {
        "id": "1xp5A-C6Gh4E",
        "outputId": "d7f61fe8-6374-48f0-9d69-48b5781271e0",
        "colab": {
          "base_uri": "https://localhost:8080/"
        }
      },
      "source": [
        "import nltk\n",
        "nltk.download('wordnet')"
      ],
      "execution_count": 3,
      "outputs": [
        {
          "output_type": "stream",
          "text": [
            "[nltk_data] Downloading package wordnet to /root/nltk_data...\n",
            "[nltk_data]   Unzipping corpora/wordnet.zip.\n"
          ],
          "name": "stdout"
        },
        {
          "output_type": "execute_result",
          "data": {
            "text/plain": [
              "True"
            ]
          },
          "metadata": {
            "tags": []
          },
          "execution_count": 3
        }
      ]
    },
    {
      "cell_type": "code",
      "metadata": {
        "id": "8WwOvIb7GSZ-"
      },
      "source": [
        "syns= wordnet.synsets(\"program\")"
      ],
      "execution_count": 4,
      "outputs": []
    },
    {
      "cell_type": "code",
      "metadata": {
        "id": "Uu-zVEaaGtgD",
        "outputId": "fe454653-8af6-4f8b-a590-8aea6b17e955",
        "colab": {
          "base_uri": "https://localhost:8080/"
        }
      },
      "source": [
        "print(syns[0].name())"
      ],
      "execution_count": 5,
      "outputs": [
        {
          "output_type": "stream",
          "text": [
            "plan.n.01\n"
          ],
          "name": "stdout"
        }
      ]
    },
    {
      "cell_type": "code",
      "metadata": {
        "id": "wsJY6mqaGtiZ",
        "outputId": "c969f6a9-c704-412f-daa9-788248e2e24c",
        "colab": {
          "base_uri": "https://localhost:8080/"
        }
      },
      "source": [
        "print(syns[0].lemmas()[0].name())"
      ],
      "execution_count": 6,
      "outputs": [
        {
          "output_type": "stream",
          "text": [
            "plan\n"
          ],
          "name": "stdout"
        }
      ]
    },
    {
      "cell_type": "code",
      "metadata": {
        "id": "-xgPK_r7HFgU",
        "outputId": "b5e395de-58a0-4378-f80e-5f10835392cf",
        "colab": {
          "base_uri": "https://localhost:8080/"
        }
      },
      "source": [
        "print(syns[0].definition())"
      ],
      "execution_count": 7,
      "outputs": [
        {
          "output_type": "stream",
          "text": [
            "a series of steps to be carried out or goals to be accomplished\n"
          ],
          "name": "stdout"
        }
      ]
    },
    {
      "cell_type": "code",
      "metadata": {
        "id": "Fy_XlBY4HN8s",
        "outputId": "c71ac2ae-ba2a-4a47-bcd1-7105477f3d4f",
        "colab": {
          "base_uri": "https://localhost:8080/"
        }
      },
      "source": [
        " print(syns[0].examples())"
      ],
      "execution_count": 8,
      "outputs": [
        {
          "output_type": "stream",
          "text": [
            "['they drew up a six-step plan', 'they discussed plans for a new bond issue']\n"
          ],
          "name": "stdout"
        }
      ]
    },
    {
      "cell_type": "code",
      "metadata": {
        "id": "lmgC8rppHYAN",
        "outputId": "754f9f64-8155-4383-d986-d52b11045bc3",
        "colab": {
          "base_uri": "https://localhost:8080/"
        }
      },
      "source": [
        "synonyms=[]\n",
        "antonyms=[]\n",
        "\n",
        "\n",
        "for syn in wordnet.synsets(\"good\"):\n",
        "    for l in syn.lemmas():\n",
        "        synonyms.append(l.name())\n",
        "        if l.antonyms():\n",
        "            antonyms.append(l.antonyms()[0].name())\n",
        "\n",
        "print(set(synonyms))\n",
        "print(set(antonyms))"
      ],
      "execution_count": 9,
      "outputs": [
        {
          "output_type": "stream",
          "text": [
            "{'full', 'practiced', 'salutary', 'estimable', 'beneficial', 'near', 'secure', 'dear', 'good', 'skillful', 'just', 'goodness', 'honorable', 'expert', 'sound', 'undecomposed', 'effective', 'well', 'serious', 'proficient', 'in_force', 'skilful', 'honest', 'thoroughly', 'unspoiled', 'in_effect', 'commodity', 'unspoilt', 'soundly', 'upright', 'adept', 'respectable', 'trade_good', 'ripe', 'right', 'safe', 'dependable'}\n",
            "{'evilness', 'badness', 'bad', 'evil', 'ill'}\n"
          ],
          "name": "stdout"
        }
      ]
    },
    {
      "cell_type": "markdown",
      "metadata": {
        "id": "3vbuJSpCuiK2"
      },
      "source": [
        "Let's look a bit deeper into Synsets"
      ]
    },
    {
      "cell_type": "markdown",
      "metadata": {
        "id": "vF5RfAcDut9q"
      },
      "source": [
        "**Synset** is a special kind of a simple interface that is present in NLTK to look up words in WordNet. Synset instances are the groupings of synonymous words that express the same concept. Some of the words have only one Synset and some have several."
      ]
    },
    {
      "cell_type": "markdown",
      "metadata": {
        "id": "gfjBc1muu0Z0"
      },
      "source": [
        "Code #1 : Understanding Synset\n",
        "\n"
      ]
    },
    {
      "cell_type": "code",
      "metadata": {
        "id": "SzkipvWiugR6",
        "outputId": "3d5918bd-3584-4665-b3ae-0075e23396c6",
        "colab": {
          "base_uri": "https://localhost:8080/"
        }
      },
      "source": [
        "from nltk.corpus import wordnet \n",
        "syn = wordnet.synsets('hello')[0] \n",
        "\n",
        "print (\"Synset name : \", syn.name()) \n",
        "\n",
        "# Defining the word \n",
        "print (\"\\nSynset meaning : \", syn.definition()) \n",
        "\n",
        "# list of phrases that use the word in context \n",
        "print (\"\\nSynset example : \", syn.examples()) \n"
      ],
      "execution_count": 13,
      "outputs": [
        {
          "output_type": "stream",
          "text": [
            "Synset name :  hello.n.01\n",
            "\n",
            "Synset meaning :  an expression of greeting\n",
            "\n",
            "Synset example :  ['every morning they exchanged polite hellos']\n"
          ],
          "name": "stdout"
        }
      ]
    },
    {
      "cell_type": "markdown",
      "metadata": {
        "id": "wSFhIiKJvAGe"
      },
      "source": [
        "wordnet.synsets(word) can be used to get a list of Synsets. This list can be empty (if no such word is found) or can have few elements.\n",
        " \n"
      ]
    },
    {
      "cell_type": "markdown",
      "metadata": {
        "id": "heANN8EFvDrt"
      },
      "source": [
        "**Hypernyms and Hyponyms –**\n",
        "\n",
        "\n",
        "\n",
        "Hypernyms: More abstract terms.\n",
        "\n",
        "Hyponyms: More specific terms.\n",
        "\n",
        "Both come to picture as Synsets are organized in a structure similar to that of an inheritance tree. This tree can be traced all the way up to a root hypernym. Hypernyms provide a way to categorize and group words based on their similarity to each other."
      ]
    },
    {
      "cell_type": "markdown",
      "metadata": {
        "id": "KBKCoep4vDl4"
      },
      "source": [
        "\n",
        "\n",
        "Code #2 : Understanding Hypernerms and Hyponyms"
      ]
    },
    {
      "cell_type": "code",
      "metadata": {
        "id": "byoTKMPjvRM_",
        "outputId": "b31e17bf-f7a7-46ac-f683-ff0c131d51be",
        "colab": {
          "base_uri": "https://localhost:8080/"
        }
      },
      "source": [
        "from nltk.corpus import wordnet \n",
        "syn = wordnet.synsets('hello')[0] \n",
        "\n",
        "print (\"Synset name : \", syn.name()) \n",
        "\n",
        "print (\"\\nSynset abstract term : \", syn.hypernyms()) \n",
        "\n",
        "print (\"\\nSynset specific term : \", \n",
        "\tsyn.hypernyms()[0].hyponyms()) \n",
        "\n",
        "syn.root_hypernyms() \n",
        "\n",
        "print (\"\\nSynset root hypernerm : \", syn.root_hypernyms()) \n"
      ],
      "execution_count": 14,
      "outputs": [
        {
          "output_type": "stream",
          "text": [
            "Synset name :  hello.n.01\n",
            "\n",
            "Synset abstract term :  [Synset('greeting.n.01')]\n",
            "\n",
            "Synset specific term :  [Synset('calling_card.n.02'), Synset('good_afternoon.n.01'), Synset('good_morning.n.01'), Synset('hail.n.03'), Synset('hello.n.01'), Synset('pax.n.01'), Synset('reception.n.01'), Synset('regard.n.03'), Synset('salute.n.02'), Synset('salute.n.03'), Synset('welcome.n.02'), Synset('well-wishing.n.01')]\n",
            "\n",
            "Synset root hypernerm :  [Synset('entity.n.01')]\n"
          ],
          "name": "stdout"
        }
      ]
    },
    {
      "cell_type": "markdown",
      "metadata": {
        "id": "LtN4MPDEvUwL"
      },
      "source": [
        "Code #3 : Part of Speech (POS) in Synset.\n",
        "\n"
      ]
    },
    {
      "cell_type": "code",
      "metadata": {
        "id": "XPkau_o-vbXb",
        "outputId": "205c9fee-8514-42ad-a3a6-cbd6b0e8f41a",
        "colab": {
          "base_uri": "https://localhost:8080/"
        }
      },
      "source": [
        "syn = wordnet.synsets('hello')[0] \n",
        "print (\"Syn tag : \", syn.pos()) \n",
        "\n",
        "syn = wordnet.synsets('doing')[0] \n",
        "print (\"Syn tag : \", syn.pos()) \n",
        "\n",
        "syn = wordnet.synsets('beautiful')[0] \n",
        "print (\"Syn tag : \", syn.pos()) \n",
        "\n",
        "syn = wordnet.synsets('quickly')[0] \n",
        "print (\"Syn tag : \", syn.pos()) \n"
      ],
      "execution_count": 15,
      "outputs": [
        {
          "output_type": "stream",
          "text": [
            "Syn tag :  n\n",
            "Syn tag :  v\n",
            "Syn tag :  a\n",
            "Syn tag :  r\n"
          ],
          "name": "stdout"
        }
      ]
    },
    {
      "cell_type": "markdown",
      "metadata": {
        "id": "rnQx54WuvnH7"
      },
      "source": [
        "**Wu Palmer: WordNet Similarity**\n",
        "\n",
        "How Wu & Palmer Similarity works ?\n",
        "It calculates relatedness by considering the depths of the two synsets in the WordNet taxonomies, along with the depth of the LCS (Least Common Subsumer)."
      ]
    },
    {
      "cell_type": "markdown",
      "metadata": {
        "id": "d8HO9gKkwL18"
      },
      "source": [
        "![wu-palmer-1.jpg](data:image/jpeg;base64,/9j/4AAQSkZJRgABAQEAYABgAAD/4RDaRXhpZgAATU0AKgAAAAgABAE7AAIAAAAFAAAISodpAAQAAAABAAAIUJydAAEAAAAKAAAQyOocAAcAAAgMAAAAPgAAAAAc6gAAAAgAAAAAAAAAAAAAAAAAAAAAAAAAAAAAAAAAAAAAAAAAAAAAAAAAAAAAAAAAAAAAAAAAAAAAAAAAAAAAAAAAAAAAAAAAAAAAAAAAAAAAAAAAAAAAAAAAAAAAAAAAAAAAAAAAAAAAAAAAAAAAAAAAAAAAAAAAAAAAAAAAAAAAAAAAAAAAAAAAAAAAAAAAAAAAAAAAAAAAAAAAAAAAAAAAAAAAAAAAAAAAAAAAAAAAAAAAAAAAAAAAAAAAAAAAAAAAAAAAAAAAAAAAAAAAAAAAAAAAAAAAAAAAAAAAAAAAAAAAAAAAAAAAAAAAAAAAAAAAAAAAAAAAAAAAAAAAAAAAAAAAAAAAAAAAAAAAAAAAAAAAAAAAAAAAAAAAAAAAAAAAAAAAAAAAAAAAAAAAAAAAAAAAAAAAAAAAAAAAAAAAAAAAAAAAAAAAAAAAAAAAAAAAAAAAAAAAAAAAAAAAAAAAAAAAAAAAAAAAAAAAAAAAAAAAAAAAAAAAAAAAAAAAAAAAAAAAAAAAAAAAAAAAAAAAAAAAAAAAAAAAAAAAAAAAAAAAAAAAAAAAAAAAAAAAAAAAAAAAAAAAAAAAAAAAAAAAAAAAAAAAAAAAAAAAAAAAAAAAAAAAAAAAAAAAAAAAAAAAAAAAAAAAAAAAAAAAAAAAAAAAAAAAAAAAAAAAAAAAAAAAAAAAAAAAAAAAAAAAAAAAAAAAAAAAAAAAAAAAAAAAAAAAAAAAAAAAAAAAAAAAAAAAAAAAAAAAAAAAAAAAAAAAAAAAAAAAAAAAAAAAAAAAAAAAAAAAAAAAAAAAAAAAAAAAAAAAAAAAAAAAAAAAAAAAAAAAAAAAAAAAAAAAAAAAAAAAAAAAAAAAAAAAAAAAAAAAAAAAAAAAAAAAAAAAAAAAAAAAAAAAAAAAAAAAAAAAAAAAAAAAAAAAAAAAAAAAAAAAAAAAAAAAAAAAAAAAAAAAAAAAAAAAAAAAAAAAAAAAAAAAAAAAAAAAAAAAAAAAAAAAAAAAAAAAAAAAAAAAAAAAAAAAAAAAAAAAAAAAAAAAAAAAAAAAAAAAAAAAAAAAAAAAAAAAAAAAAAAAAAAAAAAAAAAAAAAAAAAAAAAAAAAAAAAAAAAAAAAAAAAAAAAAAAAAAAAAAAAAAAAAAAAAAAAAAAAAAAAAAAAAAAAAAAAAAAAAAAAAAAAAAAAAAAAAAAAAAAAAAAAAAAAAAAAAAAAAAAAAAAAAAAAAAAAAAAAAAAAAAAAAAAAAAAAAAAAAAAAAAAAAAAAAAAAAAAAAAAAAAAAAAAAAAAAAAAAAAAAAAAAAAAAAAAAAAAAAAAAAAAAAAAAAAAAAAAAAAAAAAAAAAAAAAAAAAAAAAAAAAAAAAAAAAAAAAAAAAAAAAAAAAAAAAAAAAAAAAAAAAAAAAAAAAAAAAAAAAAAAAAAAAAAAAAAAAAAAAAAAAAAAAAAAAAAAAAAAAAAAAAAAAAAAAAAAAAAAAAAAAAAAAAAAAAAAAAAAAAAAAAAAAAAAAAAAAAAAAAAAAAAAAAAAAAAAAAAAAAAAAAAAAAAAAAAAAAAAAAAAAAAAAAAAAAAAAAAAAAAAAAAAAAAAAAAAAAAAAAAAAAAAAAAAAAAAAAAAAAAAAAAAAAAAAAAAAAAAAAAAAAAAAAAAAAAAAAAAAAAAAAAAAAAAAAAAAAAAAAAAAAAAAAAAAAAAAAAAAAAAAAAAAAAAAAAAAAAAAAAAAAAAAAAAAAAAAAAAAAAAAAAAAAAAAAAAAAAAAAAAAAAAAAAAAAAAAAAAAAAAAAAAAAAAAAAAAAAAAAAAAAAAAAAAAAAAAAAAAAAAAAAAAAAAAAAAAAAAAAAAAAAAAAAAAAAAAAAAAAAAAAAAAAAAAAAAAAAAAAAAAAAAAAAAAAAAAAAAAAAAAAAAAAAAAAAAAAAAAAAAAAAAAAAAAAAAAAAAAAAAAAAAAAAAAAAAAAAAAAAAAAAAAAAAAAAAAAAAAAAAAAAAAAAAAAAAAAAAAAAAAAAAAAAAAAAAAAAAAAAAAAAAAAAAAAAAAAAAAAAAAAAAAAAAAAAAAAAAAAAAAAAAAAAAAAAAAAAAAAAAAAAAAAAAAAAAAAAAAAAAAAAAAAAAAAAAAAAAAAAAAAAAAAAAAAAAAAAAAAAAAAAAAAAAAAAAAAAAAAAAAAAAAAAAAAAAAAAAAAAAAAAAAAAAAAAAAAAAAAAAAAAAAAAAAAAAAAAAAAAAAAAAAAAAAAAAAAAAAAAAAAAAAAAAAAAAAAAAAAAAAAAAAAAAAAAAAAAAAAAAAAAAAAAAAAAAAAAAAAAAAAAAAAAAAAAAAAAAAAAAAAAAAAAAAAAAAAAAAAAAAAAAAAAAAAAAAAAAAAAAAAAAAAAAAAAAAAAAAAAAAAAAAAAAAAAAAAAAAAAAAAAAAAAAAAAAAAAAAAAAAAAAAAAAAAAAAAAAAAAAAAAAAAAAAAAAAAAAAAAAAAAAAAAAAAAAAAAAAAAAAAAAAAAAAAAAAAAAAAAAAAAAAAAAAAAAAAAAAAAAAAAAAAAAAAAAAAAAAAAAAAAAAAAAAAAAAAAAAAAAAAAAAAAAAAAAAAAAAAAAAAAAAAAAAAAAAAAAAAAAAAAAAAAAAAAAAAAAAAAAAAAAAAAAAAAAAAAAAAAAAAAAAAAAAAAAAAAAAAAAAAAAAAAAAAAAAAAAAAAAAAAAAAAAAAAAAAAAAAAAAAAAAAAAAAAAAAAAAAAAAAAAAAAAAAAAAAAAAAAAAGRlbGwAAAAFkAMAAgAAABQAABCekAQAAgAAABQAABCykpEAAgAAAAMyMQAAkpIAAgAAAAMyMQAA6hwABwAACAwAAAiSAAAAABzqAAAACAAAAAAAAAAAAAAAAAAAAAAAAAAAAAAAAAAAAAAAAAAAAAAAAAAAAAAAAAAAAAAAAAAAAAAAAAAAAAAAAAAAAAAAAAAAAAAAAAAAAAAAAAAAAAAAAAAAAAAAAAAAAAAAAAAAAAAAAAAAAAAAAAAAAAAAAAAAAAAAAAAAAAAAAAAAAAAAAAAAAAAAAAAAAAAAAAAAAAAAAAAAAAAAAAAAAAAAAAAAAAAAAAAAAAAAAAAAAAAAAAAAAAAAAAAAAAAAAAAAAAAAAAAAAAAAAAAAAAAAAAAAAAAAAAAAAAAAAAAAAAAAAAAAAAAAAAAAAAAAAAAAAAAAAAAAAAAAAAAAAAAAAAAAAAAAAAAAAAAAAAAAAAAAAAAAAAAAAAAAAAAAAAAAAAAAAAAAAAAAAAAAAAAAAAAAAAAAAAAAAAAAAAAAAAAAAAAAAAAAAAAAAAAAAAAAAAAAAAAAAAAAAAAAAAAAAAAAAAAAAAAAAAAAAAAAAAAAAAAAAAAAAAAAAAAAAAAAAAAAAAAAAAAAAAAAAAAAAAAAAAAAAAAAAAAAAAAAAAAAAAAAAAAAAAAAAAAAAAAAAAAAAAAAAAAAAAAAAAAAAAAAAAAAAAAAAAAAAAAAAAAAAAAAAAAAAAAAAAAAAAAAAAAAAAAAAAAAAAAAAAAAAAAAAAAAAAAAAAAAAAAAAAAAAAAAAAAAAAAAAAAAAAAAAAAAAAAAAAAAAAAAAAAAAAAAAAAAAAAAAAAAAAAAAAAAAAAAAAAAAAAAAAAAAAAAAAAAAAAAAAAAAAAAAAAAAAAAAAAAAAAAAAAAAAAAAAAAAAAAAAAAAAAAAAAAAAAAAAAAAAAAAAAAAAAAAAAAAAAAAAAAAAAAAAAAAAAAAAAAAAAAAAAAAAAAAAAAAAAAAAAAAAAAAAAAAAAAAAAAAAAAAAAAAAAAAAAAAAAAAAAAAAAAAAAAAAAAAAAAAAAAAAAAAAAAAAAAAAAAAAAAAAAAAAAAAAAAAAAAAAAAAAAAAAAAAAAAAAAAAAAAAAAAAAAAAAAAAAAAAAAAAAAAAAAAAAAAAAAAAAAAAAAAAAAAAAAAAAAAAAAAAAAAAAAAAAAAAAAAAAAAAAAAAAAAAAAAAAAAAAAAAAAAAAAAAAAAAAAAAAAAAAAAAAAAAAAAAAAAAAAAAAAAAAAAAAAAAAAAAAAAAAAAAAAAAAAAAAAAAAAAAAAAAAAAAAAAAAAAAAAAAAAAAAAAAAAAAAAAAAAAAAAAAAAAAAAAAAAAAAAAAAAAAAAAAAAAAAAAAAAAAAAAAAAAAAAAAAAAAAAAAAAAAAAAAAAAAAAAAAAAAAAAAAAAAAAAAAAAAAAAAAAAAAAAAAAAAAAAAAAAAAAAAAAAAAAAAAAAAAAAAAAAAAAAAAAAAAAAAAAAAAAAAAAAAAAAAAAAAAAAAAAAAAAAAAAAAAAAAAAAAAAAAAAAAAAAAAAAAAAAAAAAAAAAAAAAAAAAAAAAAAAAAAAAAAAAAAAAAAAAAAAAAAAAAAAAAAAAAAAAAAAAAAAAAAAAAAAAAAAAAAAAAAAAAAAAAAAAAAAAAAAAAAAAAAAAAAAAAAAAAAAAAAAAAAAAAAAAAAAAAAAAAAAAAAAAAAAAAAAAAAAAAAAAAAAAAAAAAAAAAAAAAAAAAAAAAAAAAAAAAAAAAAAAAAAAAAAAAAAAAAAAAAAAAAAAAAAAAAAAAAAAAAAAAAAAAAAAAAAAAAAAAAAAAAAAAAAAAAAAAAAAAAAAAAAAAAAAAAAAAAAAAAAAAAAAAAAAAAAAAAAAAAAAAAAAAAAAAAAAAAAAAAAAAAAAAAAAAAAAAAAAAAAAAAAAAAAAAAAAAAAAAAAAAAAAAAAAAAAAAAAAAAAAAAAAAAAAAAAAAAAAAAAAAAAAAAAAAAAAAAAAAAAAAAAAAAAAAAAAAAAAAAAAAAAAAAAAAAAAAAAAAAAAAAAAAAAAAAAAAAAAAAAAAAAAAAAAAAAAAAAAAAAAAAAAAAAAAAAAAAAAAAAAAAAAAAAAAAAAAAAAAAAAAAAAAAAAAAAAAAAAAAAAAAAAAAAAAAAAAAAAAAAAAAAAAAAAAAAAAAAAAAAAAAAAAAAAAAAAAAAAAAAAAAAAAAAAAAAAAAAAAAAAAAAAAAAAAAAAAAAAAAAAAAAAAAAAAAAAAAAAAAAAAAAAAAAAAAAAAAAAAAAAAAAAAAAAAAAAAAAAAAAAAAAAAAAAAAAAAAAAAAAAAAAAAAAAAAAAAAAAAAAAAAAAAAAAAAAAAAAAAAAAAAAAAAAAAAAAAAAAAAAAAAAAAAAAAAAAAAAAAAAAAAAAAAAAAAAAAAAAAAAAAAAAAAAAAAAAAAAAAAAAAAAAAAAAAAAAAAAAAAAAAAAAAAAAAAAAAAAAAAAAAAAAAAAAAAAAAAAAAAAAAAAAAAAAAAAAAAAAAAAAAAAAAAAAAAAAAAAAAAAAAAAAAAAAAAAAAAAAAAAAAAAAAAAAAAAAAAAAAAAAAAAAAAAAAAAAAAAAAAAAAAAAAAAAAAAAAAAAAAAAAAAAAAAAAAAAAAAAAAAAAAAAAAAAAAAAAAAAAAAAAAAAAAAAAAAAAAAAAAAAAAAAAAAAAAAAAAAAAAAAAAAAAAAAAAAAAAAAAAAAAAAAAAAAAAAAAAAAAAAAAAAAAAAAAAAAAAAAAAAAAAAAAAAAAAAAAAAAAAAAAAAAAAAAAAAAAAAAAAAAAAAAAAAAAAAAAAAAAAAAAAAAAAAAMjAxOTowMToyNyAxNDoyNDo0NgAyMDE5OjAxOjI3IDE0OjI0OjQ2AAAAZABlAGwAbAAAAP/hCxdodHRwOi8vbnMuYWRvYmUuY29tL3hhcC8xLjAvADw/eHBhY2tldCBiZWdpbj0n77u/JyBpZD0nVzVNME1wQ2VoaUh6cmVTek5UY3prYzlkJz8+DQo8eDp4bXBtZXRhIHhtbG5zOng9ImFkb2JlOm5zOm1ldGEvIj48cmRmOlJERiB4bWxuczpyZGY9Imh0dHA6Ly93d3cudzMub3JnLzE5OTkvMDIvMjItcmRmLXN5bnRheC1ucyMiPjxyZGY6RGVzY3JpcHRpb24gcmRmOmFib3V0PSJ1dWlkOmZhZjViZGQ1LWJhM2QtMTFkYS1hZDMxLWQzM2Q3NTE4MmYxYiIgeG1sbnM6ZGM9Imh0dHA6Ly9wdXJsLm9yZy9kYy9lbGVtZW50cy8xLjEvIi8+PHJkZjpEZXNjcmlwdGlvbiByZGY6YWJvdXQ9InV1aWQ6ZmFmNWJkZDUtYmEzZC0xMWRhLWFkMzEtZDMzZDc1MTgyZjFiIiB4bWxuczp4bXA9Imh0dHA6Ly9ucy5hZG9iZS5jb20veGFwLzEuMC8iPjx4bXA6Q3JlYXRlRGF0ZT4yMDE5LTAxLTI3VDE0OjI0OjQ2LjIwOTwveG1wOkNyZWF0ZURhdGU+PC9yZGY6RGVzY3JpcHRpb24+PHJkZjpEZXNjcmlwdGlvbiByZGY6YWJvdXQ9InV1aWQ6ZmFmNWJkZDUtYmEzZC0xMWRhLWFkMzEtZDMzZDc1MTgyZjFiIiB4bWxuczpkYz0iaHR0cDovL3B1cmwub3JnL2RjL2VsZW1lbnRzLzEuMS8iPjxkYzpjcmVhdG9yPjxyZGY6U2VxIHhtbG5zOnJkZj0iaHR0cDovL3d3dy53My5vcmcvMTk5OS8wMi8yMi1yZGYtc3ludGF4LW5zIyI+PHJkZjpsaT5kZWxsPC9yZGY6bGk+PC9yZGY6U2VxPg0KCQkJPC9kYzpjcmVhdG9yPjwvcmRmOkRlc2NyaXB0aW9uPjwvcmRmOlJERj48L3g6eG1wbWV0YT4NCiAgICAgICAgICAgICAgICAgICAgICAgICAgICAgICAgICAgICAgICAgICAgICAgICAgICAgICAgICAgICAgICAgICAgICAgICAgICAgICAgICAgICAgICAgICAgICAgICAgICAKICAgICAgICAgICAgICAgICAgICAgICAgICAgICAgICAgICAgICAgICAgICAgICAgICAgICAgICAgICAgICAgICAgICAgICAgICAgICAgICAgICAgICAgICAgICAgICAgICAgIAogICAgICAgICAgICAgICAgICAgICAgICAgICAgICAgICAgICAgICAgICAgICAgICAgICAgICAgICAgICAgICAgICAgICAgICAgICAgICAgICAgICAgICAgICAgICAgICAgICAgCiAgICAgICAgICAgICAgICAgICAgICAgICAgICAgICAgICAgICAgICAgICAgICAgICAgICAgICAgICAgICAgICAgICAgICAgICAgICAgICAgICAgICAgICAgICAgICAgICAgICAKICAgICAgICAgICAgICAgICAgICAgICAgICAgICAgICAgICAgICAgICAgICAgICAgICAgICAgICAgICAgICAgICAgICAgICAgICAgICAgICAgICAgICAgICAgICAgICAgICAgIAogICAgICAgICAgICAgICAgICAgICAgICAgICAgICAgICAgICAgICAgICAgICAgICAgICAgICAgICAgICAgICAgICAgICAgICAgICAgICAgICAgICAgICAgICAgICAgICAgICAgCiAgICAgICAgICAgICAgICAgICAgICAgICAgICAgICAgICAgICAgICAgICAgICAgICAgICAgICAgICAgICAgICAgICAgICAgICAgICAgICAgICAgICAgICAgICAgICAgICAgICAKICAgICAgICAgICAgICAgICAgICAgICAgICAgICAgICAgICAgICAgICAgICAgICAgICAgICAgICAgICAgICAgICAgICAgICAgICAgICAgICAgICAgICAgICAgICAgICAgICAgIAogICAgICAgICAgICAgICAgICAgICAgICAgICAgICAgICAgICAgICAgICAgICAgICAgICAgICAgICAgICAgICAgICAgICAgICAgICAgICAgICAgICAgICAgICAgICAgICAgICAgCiAgICAgICAgICAgICAgICAgICAgICAgICAgICAgICAgICAgICAgICAgICAgICAgICAgICAgICAgICAgICAgICAgICAgICAgICAgICAgICAgICAgICAgICAgICAgICAgICAgICAKICAgICAgICAgICAgICAgICAgICAgICAgICAgICAgICAgICAgICAgICAgICAgICAgICAgICAgICAgICAgICAgICAgICAgICAgICAgICAgICAgICAgICAgICAgICAgICAgICAgIAogICAgICAgICAgICAgICAgICAgICAgICAgICAgICAgICAgICAgICAgICAgICAgICAgICAgICAgICAgICAgICAgICAgICAgICAgICAgICAgICAgICAgICAgICAgICAgICAgICAgCiAgICAgICAgICAgICAgICAgICAgICAgICAgICAgICAgICAgICAgICAgICAgICAgICAgICAgICAgICAgICAgICAgICAgICAgICAgICAgICAgICAgICAgICAgICAgICAgICAgICAKICAgICAgICAgICAgICAgICAgICAgICAgICAgICAgICAgICAgICAgICAgICAgICAgICAgICAgICAgICAgICAgICAgICAgICAgICAgICAgICAgICAgICAgICAgICAgICAgICAgIAogICAgICAgICAgICAgICAgICAgICAgICAgICAgICAgICAgICAgICAgICAgICAgICAgICAgICAgICAgICAgICAgICAgICAgICAgICAgICAgICAgICAgICAgICAgICAgICAgICAgCiAgICAgICAgICAgICAgICAgICAgICAgICAgICAgICAgICAgICAgICAgICAgICAgICAgICAgICAgICAgICAgICAgICAgICAgICAgICAgICAgICAgICAgICAgICAgICAgICAgICAKICAgICAgICAgICAgICAgICAgICAgICAgICAgICAgICAgICAgICAgICAgICAgICAgICAgICAgICAgICAgICAgICAgICAgICAgICAgICAgICAgICAgICAgICAgICAgICAgICAgIAogICAgICAgICAgICAgICAgICAgICAgICAgICAgICAgICAgICAgICAgICAgICAgICAgICAgICAgICAgICAgICAgICAgICAgICAgICAgICAgICAgICAgICAgICAgICAgICAgICAgCiAgICAgICAgICAgICAgICAgICAgICAgICAgICAgICAgICAgICAgICAgICAgICAgICAgICAgICAgICAgICAgICAgICAgICAgICAgICAgICAgICAgICAgICAgICAgICAgICAgICAKICAgICAgICAgICAgICAgICAgICAgICAgICAgICAgICAgICAgICAgICAgICAgICAgICAgICAgICAgICAgICAgICAgICAgICAgICAgICAgICAgICAgICAgICAgICAgICAgICAgIAogICAgICAgICAgICAgICAgICAgICAgICAgICAgPD94cGFja2V0IGVuZD0ndyc/Pv/bAEMABwUFBgUEBwYFBggHBwgKEQsKCQkKFQ8QDBEYFRoZGBUYFxseJyEbHSUdFxgiLiIlKCkrLCsaIC8zLyoyJyorKv/bAEMBBwgICgkKFAsLFCocGBwqKioqKioqKioqKioqKioqKioqKioqKioqKioqKioqKioqKioqKioqKioqKioqKioqKv/AABEIAH0CsgMBIgACEQEDEQH/xAAfAAABBQEBAQEBAQAAAAAAAAAAAQIDBAUGBwgJCgv/xAC1EAACAQMDAgQDBQUEBAAAAX0BAgMABBEFEiExQQYTUWEHInEUMoGRoQgjQrHBFVLR8CQzYnKCCQoWFxgZGiUmJygpKjQ1Njc4OTpDREVGR0hJSlNUVVZXWFlaY2RlZmdoaWpzdHV2d3h5eoOEhYaHiImKkpOUlZaXmJmaoqOkpaanqKmqsrO0tba3uLm6wsPExcbHyMnK0tPU1dbX2Nna4eLj5OXm5+jp6vHy8/T19vf4+fr/xAAfAQADAQEBAQEBAQEBAAAAAAAAAQIDBAUGBwgJCgv/xAC1EQACAQIEBAMEBwUEBAABAncAAQIDEQQFITEGEkFRB2FxEyIygQgUQpGhscEJIzNS8BVictEKFiQ04SXxFxgZGiYnKCkqNTY3ODk6Q0RFRkdISUpTVFVWV1hZWmNkZWZnaGlqc3R1dnd4eXqCg4SFhoeIiYqSk5SVlpeYmZqio6Slpqeoqaqys7S1tre4ubrCw8TFxsfIycrS09TV1tfY2dri4+Tl5ufo6ery8/T19vf4+fr/2gAMAwEAAhEDEQA/APpGiiigAooooAKKKKACiiigAooooAKKKKACiiigAooooAKKKKACiiigAooooAKKKKACiiigAooooAKKKKACiiigAooooAKKKKACiiigAooooAKKKKACiiigAooooAKKKKACiiigAooooAKKKKACiiigAooooAKKKKACiiigAooooAKKKKACiiigAooooAKKKKACiiigAooooAKKKKACiiigAooooAKKKKACiiigAooooAKKKKACiiigAooooAKKKKACiiigAooooAKKKKACiiigAooooAKKKKACiiigAooooAKKKKACiiigAooooAKKKKACiiigAooooAKKKKACiiigAooooAKKKKACiivHta+N2qaH8XbLwRfeGII/tV7Bbrdrfl90crhVkA8sdm+76gjPegD2GiiigAooooAKKK51vH3hpPHKeDm1P/ifONy2fkSdPLMn39uz7gz1oA6KiuO+J3jW/wDh/wCEZNestHi1S3gdVuA92YTEGYKrAbG3DcwB5GOOtO+GHjiT4heCYtemsVsWkmki8lJDIBtOM5wP5UAdfRRRQAUVy3izxtH4evrLR9Nsn1bX9Sz9j06JwmVHWSRzwiD159geaxfHfjvxJ8PPAVvrmo6Lp+qTK+y9+y3bwpAWbEe0MjFxzgklecEDBwAD0OiuU+GvjOTx94FtPEE1kti1w8imBZN4XY5XrgdcZ6V1dABRRRQAUUVxeqeNr298UT+GPBFlBqGpWgDX95dOVtbAH7obb8zuf7i49yMGgDtKKRN2xfMxux823pmloAKKbLLHDC8szrHGilndzgKB1JPYVx3hX4q+G/GnizUNB8OyXF1JYRea92EAgkG4KdjZyeT1xg9iaAOzooooAKKKKACivNrr46eFv7QuLLQrPWvEk9rnz10fTmm8vHBJLbRj3HFXPA3xk8J+P9QbTtJmubXUVUsLO+iEcjAdcYJU49M59uDQB3tFcb4n8Xar4N1B9Q1nTYrjwsSive2bMZ7HOAWljP303H7ycgdQetdU0zXWmGfS5oJGmh320rfNGxIyrHB5XoeD0oAsUVx2h+Nrg+J/+EW8XWEel628ZltHik32+oRj7zRMcEMO6NyBzyOa7GgAooooAKKKKACiiigAooooAKKKKACiiigAooooAKKKKACiiigAooooAKKKKACiiigAooooAKKKKACiiigAooooAKKKKACiiigAooooAKKKKACiiigAooooAKKKKACiiigAooooAKKKKACiiigDwJPih4w+JXxWufCvw+1C30PTLISNLqL2q3EjojBS+1vlwWIAHHByT2Hn3iaDX7T9qDw7a+K76HUb2HUtOVbyGAQiePzUKsUHAPJBxxkVofs4yL4b+MusaFqzeRdvbS2qiQ7S0scqkrj1wrH8Kd8RdSs9R/a00FrG5jnW31HToZGjbIV1lXK59Rnn0NAHsPxp+KrfDPQLX+zoIrnVtQZlt0myUjVcbnYDBP3lAGRnPtXE+LfFfxV+G3hzRvFes6/Y6xbX0qJdaWdPSJbcspcKJF+Y8KRu7HHWsn9rLTLr7Z4d1VY2a08uW3aQDhXyGAP1Gcf7prq734WeEfEfgyPVta+JHiy+0J41ud99rUckK8ZyQ0ZAYZI9eooA3/iD4u1K4+CI8a+C9Xl0yRbeK7QeRFKJFdlVo2Dq2CNx5GOR3Fcj8N9c+KfxC+Gt1f6f4ks7G6guJEiuZ7NJZbqQAHb0CRIMgZ2sc5PTFb3jrRtM0D9lu/03QZ7i406Kxja2luRiR0aZXBYbV/vegrL/AGada02y+D+otdXsMQsL6aa53uB5SbEIY57cHn2PpQBL8Cfi3rXjuTU9B8SNCdXs4fPhuBDt3rkK29BgZVivTGc44xmvL7ex8Sah+1hPZxeJVtdcNzMo1ZLBXVNts3AhZiMbBsALHHXOa2f2XbC4vPiN4g12KJxZLZvAXYfxySo6j64jOfwpunSJY/tsu14whVr2YAucZL2rBPzLDH1oA9G+Lunaxpf7OGvW3iLXP7dvQ8Ba8+yJbblN1FhdiEjj171wvwxPjyP9n691Dwpq9lpEGmvc3EQNoJ5rsr8zDLnbGOCB8pJPoMGvSvj5eW1z8CfEf2e4il2SW8TbHDbXFzFlTjuPSua+DpA/Zd1bnpBqGfb5GoA3/gJ8R9V+IXha+/4SExyahp06xtPGgTzUZcqSo4ByG6YHTivVa+d/2Sj/AMSnxOO/n2//AKC9fRFAHkvwmk/4Sj4g+OfGF1mRxf8A9k2ZYf6qCLnA9N2UJHrVn9oz/kiOq/8AXa3/APRy1Q/Z2T7FofizSpci4s/EdwJA3UfKi8/ihq9+0awHwS1QEgEz24Hv+9WgCD4B31vpf7P9pf3sgitrX7XNNIeiosjsx/AA1z3hTx18QfjJq2sS+EtXtfCekadgQs1ilzJMzZ2q+/IHAySvTI4NT/DTTbjWP2SrzT7FPMubm0v0iQfxsWfA/E8Vj/so6vZR6fr+jyzpHfGZLhYXOGdNpUkDvgjn0yKAOp8IfELxrpvwu8S678RNInW90cn7Oktm1sbjjAPQAruI+ZRjFYHgnxH8UviZ4X1PxHo3jDTtOmtZmji0eLTY5A5ChgGdssmc4HWvUPFHj7wrZeC9e1O8b+2dM011tNQgtUWXLSMqGP5iFb/WDIzxz34rwvx/4B0nwR4Yg+I3ws8TXOnQTNGUtkuM7w5GAjZycdSjbuh9MUAe0aD4u12H4ISeKfF9g1nrFrZXM89q9u0JzG0gQFG5G4Kp/HPSq/wL0o2Pwrsb+5Yy3+sySajeTsPmleRiQT/wELWLHrerePf2V9Q1PVIsahPpdwXMa487yiw3Af7QTOB68dhXW/CG5juvg/4YkiOVXT44z9U+U/qpoA4b4z/FzW/Cfi/S/Cnhk2tlcX0cck2o3ibliDyFFwDxgbSSSDWjbn4p+GfHmgWmoa0nivQtTkK3V1HpKwm0wM/N5fCg5GGJweak8f2XgL4h+OF8C+JYri212C0+0Wl8hWPIb/lmjZO499pXHBIrzXwVqviP4Z/Hi3+H1rrj67o8kywGFySIlZA2QMnYydwDggHj0APdPGng6PxZbzR61qFy2jx25P8AZlu5hWaQZO6R1O5gOMLwMjJ3cY+f/wBlD/kfNa/7Bv8A7VSvqPUTjS7rP/PF/wD0E18ufsof8j5rX/YN/wDaqUAfVlFY3ijxbongzSV1PxLe/YrNpVhEvlPJ85BIGEBPY89K2aAPAD8UPF3jr4x33gzwxrNn4Ws7OWaJbmWzWeaYxNtPyvwSSCQOMDPcV3Pw+vfiBD4x1vQvHTrf2dlFG9nqsdl5KXO70IAXIHVRyCDXF6p4M8BfGu61jWPD11c+H/EGm3LRXUrbV3OnSV4wx+UkcOCp4OelN/Zu8eeI/EF1q+ga9ePqltp8SyQ3sjF2U7tuwueWBwSM88H8AD1vQPCXhnwDY6hLolnHplvOxubyV5nYHaCSxZ2OABk+g5rwH4P+HZ/Gfx41Xx5YQtbaFa31zPDIUKiZ5NwVR74fc3pwO9bfxS+J+g+IvGv/AAhF/r39k+GbN86zdxRySPeOpH+jp5asQAepPcH0+bqdE+MfgWHVfDvhD4eQpeQ3c/2fbHHJbR2iYJ3fOmXJPbvySaAPVL6yt9S0+4sb2JZba5iaKWNhkMrDBH5GvNPgJqNz/wAIfqfhy+keWbw3qk+nK79TGpyufodwx2AFepV4/wDApPtOufETVY8m3vPEcwjPY4Zm/lItAGh8fbWWD4fw+JtPympeHL6C9tpVHIy4Rl/3TuBI/wBmvR9Nvo9T0m0v4ARHdQJMgPYMoYfzrg/j3dR2vwR8QGT/AJaJFGo9S0yD/wCv+FdV4Ks5NO8A+H7KcMJbbTLaJw3XKxKDn8qANuiiigAooooAKKKKACiiigAooooA828c/G/Qvh7r/wDZPiDRtb8xoxJFPBDC0UynupMoPByCCAePpXaaHr0Wt+G7fW2tLnTre4i89Y73YHWPGQx2MwAI565x1xXjv7VXh/7b4J0vXIkzJp12YpCB0jlHU/8AAkUf8Cpy+OZJP2R7e7t3ZtQuLMaLGoPztIW8jr67AW9aAO9+Hvxa8P8AxKudQg0GC+gewCM4vI0TeGLAFdrN0285x1FQ+Jfi5p/hjxrbeFrvw/rt1qN5tNp9lhhZLgMcZUmUEcgg7gMYJ6c14X8FIrj4f/tE3fhe/ky0yT2LMOFcgCRGx7hOP96vVNAjHjL9pPXdccb7PwpaLptsT089928/UZlU/VaAPXVJZQSpUkZKnqPypa+fPiz8QfGfg34yaVoukeIpBpmopbzm2ezt28sPM0bIGMe4j5M5Jzz1rU/aF8aeLPAbaNe+Ftfks4r7zIpbU2sEigptIYF0LAndgjOOBjHOQD2+isTwVqF1q/gHw/qWoS+dd3mmW088m0Lvd4lZjgAAZJPAGK26ACiiigArkvH/AMRLD4c6bBqGs6Xqd1ZzP5ZnsY43WJuwbc6kZ5wQCOPpXW15L+0r/wAkZuf+vyD/ANCoAWD9oXQ7jSf7Wj8J+LzpeTuvxpiGBQDgkuJCOMHP0rtvBnj3w94902S88NX32gQkLNE6lJISem5T684IyDg88V5N8IvH3hHw18AYYfEOsWAljFz5unGdTPIGkfC+WDu+YH071i/so6Fqcd7reuSRSRabLAttGzAhZpA2SR67QMZ/2vrQB9LUV43oeq/Fz4hWuo3cbxeAobdtlrb3OltLNO2M/MZsAL0G4L68cVW+AnxV8Q+NdT1bQvFjRXN3YxCWO5jiWMkBtrKwXCnkjBAHegC5rXxu1TQ/i7ZeCL7wxBH9qvYLdbtb8vujlcKsgHljs33fUEZ717DXy78Uf+TtvDX/AF+aZ/6OFd/+0J4q8UeCNG03V/C+vy2K3E/2SW1+zQSIflZt4Z0LA8Y644HAOcgHsdFfPeseLPifD8DLHxzb+IrKySGGEyW6WSSy3Cs4j8x5HBUEswO1VAA71d0Hxx8RvHvwjvfEmlanpuiS6VFLvdbQTSXzxrvbhvliG0gdGyc9BQB7vRXk3wC+JWq/ELw7qSeIXil1DTZkUzRoE8xHB2llHAOVbkADp6GsjUfid4o8bfF248DfD69tdItrIyLdarLbid8x8OVRvlwG+UDv1yBQB7hRXiPhD4m+JtG+Mdx8OvH13b6k7NttNSitxCzMUEiblX5cMpxx0bjJrD+OvxB8Y+AvHlna6R4kuF0y9gW5a2+ywExYcgqr7N2CF7nPPWgD6KorxW71r4xQ/E7w99ttI4PDupXK+da6da/aBaxbgCs8pQlGwQcgheuOhx7VQAUVxvib4if8I1rJ0/8A4Q/xZq+EV/tOlaZ58Jz23bhyO4rI/wCFyf8AVOPiB/4I/wD7OgD0miuL8OfEj/hI9bi03/hDfF2leYrN9q1TS/IgXAzgvuOCeg4612lAHIeMfif4Y8DXsFhrd1M2o3KB4LK2gaWWUFiowAMckEDJGTXND9oTwpba1HpniDTNf8PTSAENq1h5QAPQkBiwHvjFdtfeCfD2peMLLxTfacs2s2EXlW1y0r/u1+bjZu2n77ckE8+wrwn9oaF/HfxL8N+D/DUQu9Wt45PtBTkRCQoRvPYKqlj6BvegD6SjkSaJZInV43UMrqchgehB7inVn6DpY0Pw3pukrIZVsLSK2Eh6vsQLn8cVH4i1+08MaLLqmoxXUltCyiT7LA0zICQCxVedo6k+goA1KK81Hxf0yz1rXm1K9s7jSYTaDRhp6NLcXzSxlnUAE7zuwBtAx3r0lHEkauuQGAI3KQfxB5FAC0UUUAFFFFABRRRQAUUUUAch4h+FPgjxVrH9qa94ft7m943TCR4y+Om4IwDcDHOaq6n8GPh/q15Bc3nh2NZbeNYofs9xNAsaqSQAsbqBySc4zk5ruaKAKF9oemapop0jU7KK9sCioYLkeYGA6Z3ZJIwDnrnmuU0v4K/DzR9SW/sfDFsLhW3qZpJJlU+oV2Kj8uK7qigDzz48XEVv8E/EHnSKnmRxomT95jKmAPevMPgL8N/BPjf4cvdeItJhvr+2v5ELieSN1XahUNsYZHXGfevoLVtA0fX4Y4td0mx1OOJt0aXlskwQ9MgMDg1HpPhjQNAlkk0LQ9N0ySVQsj2dpHCXA6AlQMigCTRdB0rw5pqafoVhBYWiHIigQKM+p9T7nmsTxP8ADHwb4y1CO+8SaFDeXcYCiYSPEzAdAxRhuH1zXV0UActqvw18Ja14etdCvtIUaVaEtDZ288sEYPqRGy7j3yc859ag0/4U+D9K8O6hoOnabPb6XqRU3Vsmo3O2THv5mVz0OCNwAByAK7CigDkvC3wv8I+CtQkvvC+mSWE8ibJCt7O6uvurOVPtkcV1tFFAHlWowv8ADH4pX3ihopG8LeI0UanLGpYWFynCysBzsbJyexJJxgZ6/wAQeE/C3xH0mzOsxf2tp65lg8i9lSJ8/wAX7twG6cE5xzjGTXTEBlIYZB4IPeobSztrC1W2sLaG2gQkrFDGEVSSScAcckk/U0AZHhXwXoPgmxls/DNnJZ20r72ia6llUN6gOzbffGM96xta+DngDxBqralqvhu3ku3be7xySRB29WVGAY/UV21FAGS3hbQX8Nnw+2kWf9kFQpsfJHlYB3D5emcgHPXPPWuUj+BPw1jvRdL4WgMgbdta4mZP++C+38MV6DRQBClnbR2IsoreOO1WPylgRAqKmMbQBwBjjFeW+BrlfhVqdz4I8SSfZtIlunm0DUpjiGSNzuNuz9FdSSeT82Tjtn1iobuztdQtJLW/tobq3kGHhmjDow9CDwaAOc8TfDbwf4zuBc+I9Ct7242hfPDNHIVHQb0IJHPrS+Fvht4Q8F3DT+GtDt7O4ZSpnLNLJg9QHckgewNdQAFUBRgDgAdqKAMXxB4S0nxRGI9ZF7JEEKGKDUbi3Rweu5Y3UN+INc3p3wR8A6PeC60jR7mwuQMCa11W7icD03LKD2Fd9RQB5/8AELwJdeNbfQPDS5j0G1uFur66lnMkrrEu1IfmJZi+4kuST8uSSTz6BRRQBwurfBT4ea3evd6h4YtzPIxZ2gllg3EnJJEbKK6Tw74X0TwnpxsfDmmW+n25bcywry56ZYnlj7kmtaigDzhv2f8A4ZO5d/DZZmOSx1C6JJ/7+Vd0T4L+APDmtW2raPoAt761bfDKbyd9hwRnazkHr3Fd1RQBxnj3xuNCspNI0Af2j4qvIylhp0HzOrEYEr/3EXO7LYBxirXw88IQ+AfAdlo7TLJLEpmvLgniSVvmdsnsOg9gK6KKytYLue6htoY7i4x50yRgPLgYG49TgAAZqSWKOeF4Z41kikUq6OuVYHggg9RQB5R4odPi74q07w7o3+k+GNKuxd6xqCf6meRM7LZG6P1+YjgA9cjFetVHb28NpbpBawxwwxjakcahVUegA4FSUAFFFFABRRRQAUUUUAFFFFABRRRQBzHxI8PjxT8Ndd0gJvkntHaFfWVPnj/8eVa+XvghJeeJ/E2geEZFL6Zp2qPrs2TnDJGFUY9NwA/4HX2RXL+Gfht4S8Hatc6n4b0dLK8ukMcsgmkfKlgxADMQoyAeAOgoA+e/jx53gf4+aV4ssYgxlSC9252iR4m2MhPuqqD/AL1e1fBHQp9I+Gdre6hzqOtyvql25HLNKcrn/gG38Sa3fF3w98L+OzaHxVpYvzZ7xAfPkiKbsbvuMufujrmujiiSGFIolCRooVVHQAdBQB8vftIE2Pxq8M6lcKVtVs4Mv67LiRmH4Bh+daX7WGo2VxZ+GbWC6hlnDTTGNHDEIyptbjsex74Ne5+KvBHhzxtaxW/ijSor9ISTEWZkePOM7XUhhnAyAecCsS4+DHw+udFh0qTw1brZwyeaqxyyxsXxjLOrBm4/vE0Aavw4/wCSWeFP+wLZ/wDohKt+KPCeieM9IGl+JbL7bZiVZRF5rx/OAQDlCD3PepfDvhvS/CmjR6VoNu9tZRklInnkl257AuxIHtnFalAHm3/DPnwx/wChZ/8AJ+5/+OUf8M+fDH/oWf8Ayfuf/jlek0UAR29vHa2sVvbrsihQIi5JwoGAMn2ryn9pYgfBq5ycZvIAPf5q9arnfFngPw744ht4fFFjJfRW7Fo4hdzRICe5VHUE+5yRz60AebfALwd4Y1b4Q6Zfap4d0m9vDNPuuLmxikkOJWxlmUngYr12/uYdD0C6u4rceTY2zyiCEBcqik7VHQdMVmeFPAvh7wRBPB4Ys5bKGchniN3NKmR3Cu7AH1IxnjPSuhIDKQwyDwQe9AHzn4A8ReJfjFPrmp+IPG9x4a0jTsH7HpMiW7IjAksZCCQoA+8c8+mKxP2XCg+JniBFkZ/9AYqXPzMBMnJ/MZ+te423wb+H1prg1a38L2a3YfeMl2jVvURFtg/Ban0z4V+D9G8Uv4j0vSpLbVZJXle4jvp/nZzlsrv2kEnoRj2oA8L+KLA/tceGwCCVvNMBwen71a639q7/AJJ/o/8A2FB/6Keu81H4L+A9W1uXWNR0eafUZpfNe5bUrrfvzwQRJxjjGOmBitLxR8N/C3jT7L/wk+nzX4tE2Qq99OoUeuFcAt/tHJPrQB5T4g/5Mmi/68bT/wBKo6X4Jf8AJs3iP/t//wDRAr06T4V+D5vCMXheTTJm0WKbz0tPt9xtD/XzM45ztzjPOM03TfhT4O0jw/qOiabpk9vpupgC7tk1C52yY/7aZXOMHGMjg5HFAHj37I3/ADN3/bl/7XrkfBfh2OP9oLXdB17XtW8NTSvcpDcaZefZZJWModVLkHKMvzAdyFr6T8LfC/wh4K1F77wxpclhPInlyFb2d1dfQqzlT7ZHFT+Kfh14S8ayJJ4m0S3vZkUKs2WjkCg5A3oQ2OvGcc0AcHB8IvBmk/EvSL/UPFniDUfEnmie2ivr1LiSXyhnL/u9wQAYySB0Ga81/av/AOR80X/sG/8AtV6+jPC/gTwx4LjkTwxo9vYGUYkkXLyOPQuxLEe2ay/Efwi8E+LdZk1XxFpEl9eyKFMj39wAFHQBVkAUewAGST3oA7Siq2n2EGl6dBY2YkEFugjjEsrysFHQFnJY/iTVmgDjfE3/AAsz+2T/AMIb/wAIn/Zmxcf2r9p87f8Axf6v5celZH/F7/8Aqn//AJO16TRQBxfhz/hZ/wDbcX/CXf8ACI/2XtbzP7L+0+fnHy48z5cZxn2rtKKKAPOvjF8T4fh14bQWrxtrOoZjs0flYv70rjk7Vz0xycD1rgvBfxG+Ffw+8PXl5Dr7654lukaa+uzZ3AlvJj82xXeMBV3dM49TzXqnin4V+DfGurJqXibRzfXaRCFZDdzR4QEkDCOB1Y9u9Yn/AAz58Mf+hZ/8n7n/AOOUAdl4T11vE/hDS9ca2FodQtkuPIEnmeWGGQN2Bn8hT/EdvrV3ocsHhm+t9P1B2ULc3EPmrGu4biF6FsZxnjPWrWl6ZZ6LpNrpmmQiCzs4lhgiDFtiKMAZJJPA6k5q1QB4loXw11PS/Hvii78NXd3Y6vafZTb6pqVpvg1IyRlplPAGN3BMeCvTnpXtiBhGokIZ8DcVGAT7DnFLRQBxPiH4O+BPFWvXGs69oX2rULnb5s32ydN21Qg+VXAHyqBwO1Zn/DPnwx/6Fn/yfuf/AI5XY+LPEtl4P8Kahr2pn/R7KIuUBwZG6Kg92YgD61zPgfw5qOrJZ+MPHE8txrNwvn2tkJGW301GHyoiDgvtPzMcnnH1AKn/AAz58Mf+hZ/8n7n/AOOUf8M+fDH/AKFn/wAn7n/45Xe6nrGmaLbfaNY1G00+DOPNup1iXP1YgV8x/G/xJNb/ABK0i48JeLr2fTtQiSV47PVXlgV/NKts2uVUEAfKOPzoA9f/AOGfPhj/ANCz/wCT9z/8co/4Z8+GP/Qs/wDk/c//AByvSax4/GHhqXUv7Oi8RaS99nb9lW+jMufTbuzQBx3/AAz58Mf+hZ/8n7n/AOOUf8M+fDH/AKFn/wAn7n/45Xe6prGmaHZ/a9a1G00623BPOu51iTceg3MQM8HiqNt4z8M3mnXGoWviHTJbK2fZNdLdoYo2xnBfO3pz1oA5D/hnz4Y/9Cz/AOT9z/8AHKP+GfPhj/0LP/k/c/8Axyu903V9N1q1+06PqFrqFvnHm2s6ypn0ypIrybxn8bLjw58adM8KW0mkDSG8ldRurksHt2Zju+feFXC7TyDjPNAG5/wz58Mf+hZ/8n7n/wCOUf8ADPnwx/6Fn/yfuf8A45U3xH1XTvEXwk17UPDHiMu+mwPOl3o2okFJEQnYzRNyCDyp45BxkA1xv7OXio/8K61jUPFmuny4tS2C51O84QeUhxuc8Dk8UAdZ/wAM+fDH/oWf/J+5/wDjlH/DPnwx/wChZ/8AJ+5/+OV3+m6rp+sWYu9Ivra/tmJAmtZllQkdtykirVAHm3/DPnwx/wChZ/8AJ+5/+OUf8M+fDH/oWf8Ayfuf/jlS+MvEWqax44svh/4UvGsbmaA3mrajFgyWdqDjbHngSOSACfu5BxzkdjoWgaf4a0v7FpiOkW4ySPLK0jyOQMuzMSSTgZNAHE/8M+fDH/oWf/J+5/8AjlH/AAz58Mf+hZ/8n7n/AOOV1p8b+FBffYj4m0b7Vnb5H9oRb8+m3dmtDUtW0/R9Ll1LVLuK2s4l3PNI2FA7fXPYDrQBwX/DPnwx/wChZ/8AJ+5/+OUf8M+fDH/oWf8Ayfuf/jled+J/j34gvPihpGgeHrSfRNPa/t45mvbUCe6jd1Gdsi/IpVsjA3YwcjpX0JqOnWmradPYajCs9rcLsljYkBh6cUAef/8ADPnwx/6Fn/yfuf8A45R/wz58Mf8AoWf/ACfuf/jlMstTvvh18QNO8L6pfXF/4d13culXV5IZJbOdf+XdnPLKcjaTk8gc9a9MoA82/wCGfPhj/wBCz/5P3P8A8co/4Z8+GP8A0LP/AJP3P/xyvSaKAPNv+GfPhj/0LP8A5P3P/wAco/4Z8+GP/Qs/+T9z/wDHK6DWfGn9kfEXw34W+wed/bqXLfavO2+R5MZf7m07s4x1GPeupoA82/4Z8+GP/Qs/+T9z/wDHKP8Ahnz4Y/8AQs/+T9z/APHK9JooA82/4Z8+GP8A0LP/AJP3P/xyj/hnz4Y/9Cz/AOT9z/8AHK73U9Y0zRbb7RrGo2mnwZx5t1OsS5+rECvmP43+JJrf4laRceEvF17Pp2oRJK8dnqrywK/mlW2bXKqCAPlHH50Aev8A/DPnwx/6Fn/yfuf/AI5R/wAM+fDH/oWf/J+5/wDjlek1j/8ACYeGv7S/s7/hIdK+3Z2/Zftsfm59Nu7NAHHf8M+fDH/oWf8Ayfuf/jlH/DPnwx/6Fn/yfuf/AI5Xe6prGmaHZ/a9a1G00623BPOu51iTceg3MQM8HiqNt4z8M3mnXGoWviHTJbK2fZNdLdoYo2xnBfO3pz1oA5D/AIZ8+GP/AELP/k/c/wDxyj/hnz4Y/wDQs/8Ak/c//HK73TdX03WrX7To+oWuoW+cebazrKmfTKkivJvGfxsuPDnxp0zwpbSaQNIbyV1G6uSwe3ZmO7594VcLtPIOM80Abn/DPnwx/wChZ/8AJ+5/+OUf8M+fDH/oWf8Ayfuf/jlTfEfVdO8RfCTXtQ8MeIy76bA86XejaiQUkRCdjNE3IIPKnjkHGQDXG/s5eKj/AMK61jUPFmuny4tS2C51O84QeUhxuc8Dk8UAdZ/wz58Mf+hZ/wDJ+5/+OUf8M+fDH/oWf/J+5/8Ajld/puq6frFmLvSL62v7ZiQJrWZZUJHbcpIq1QB5t/wz58Mf+hZ/8n7n/wCOUf8ADPnwx/6Fn/yfuf8A45UvjLxFqmseOLL4f+FLxrG5mgN5q2oxYMlnag42x54EjkgAn7uQcc5HY6FoGn+GtL+xaYjpFuMkjyytI8jkDLszEkk4GTQBxP8Awz58Mf8AoWf/ACfuf/jlH/DPnwx/6Fn/AMn7n/45XWnxv4UF99iPibRvtWdvkf2hFvz6bd2awfip4o8VeG/DNrceBNEbWb65uBEVS2knESFSd+1O3AGScc0AUP8Ahnz4Y/8AQs/+T9z/APHKP+GfPhj/ANCz/wCT9z/8crj/AIg3vxd8A+EY/FFx40srxUkjW70+PS4lSHdxhXILON2B/Cea7v4b+KI/ix8L1u9e0+NTOz2t5AhIjkK4yV5yAcg4zwcjNAFT/hnz4Y/9Cz/5P3P/AMco/wCGfPhj/wBCz/5P3P8A8cpllqd98OviBp3hfVL64v8Aw7ru5dKuryQyS2c6/wDLuznllORtJyeQOetdZ4p8IW3iaKKZbu603U7UH7HqFnKUkgJwTx0ZTgZVgQR+dAHLf8M+fDH/AKFn/wAn7n/45XoGm6fa6RpVppunxeTaWcKQQR7i2xEUKoySScADknNcn8N/GN54itdS0nxCkcXiHQrk2t+kfCy/3JlHZXA/Q+1drQAUUUUAFFFFABRRRQAUUUUAFFFFABRRRQAUUUUAFFFFABRRRQAUUUUAFFFFABRRRQAUUUUAFFFFABRRRQAUUUUAFFFFABRRRQAUUUUAeQ/tBy/aNH8LaIxxDqmv28c4xkOgzlT7ZYH8K9eAwMDgV5R+0JYz/wDCDadr1ojSPoGqwXzqoyTGCVP6lT9Aa9StLqG+soLu1kWWCeNZYnU8MrDII/A0AfLenEfFb9qa5tvEubrTNNnuFhs5DlPLhJVVx0wWAZh35FZ/x+8L6R4Z+K+i/wBg2Fvp8F5bxSyW9tGEjDiVl3BRwMgDgDtnvXRX3hHxT8Mv2gpPFmleHtQ1zRb25llYabCZXCTAl0Kj7pVjkZwDgc9cZ3xr0/xl4u8caPrVv4K1lLOG2URQx2zTzBRIWJk8sMqMc8LuJAGTjOKAO8/ad8VX+h+BbHS9NmeD+152SeRDgmJFBKZ9yy59gR3rynxHe/Co/Amy03Q57ZvFttHBK8qWUyyyTEjzlMrIAVAZ8AnHyjFe1fGbwNefFP4d2N1oMEsWo2j/AGmC1vIzBJIrLhoyGxsboefTHGc1X8E/ETxNYeFdP0DU/hx4mk1ixt0tQ62yx2suwBQxmcgLkAZ4PegCp4Y1y48Xfsm6rca1/pVxb6TewtJJ8xcxI+xjnuAF59RmuR/Zo8H6D4k8O65N4h02HUxHcrFFFdr5kcW5PmZVPAY8Dd1+UYIr2fxc2pv8E/ETa8ltHqLaFeGdLUkxoxhf5VJ5OBgZ79eK8F/Z98a3/hPQNbWLwnrWu2s06MsmkW/nMkoU/K65yARj5u3PWgB3wTlk8LftHa14Z06R/wCzmmvLRo2Y4KwuxRvqNuM/7RqDxloWkQ/tZ6dpcOl2UenS3dmJLNbdBC+5VLZTGDkk545rs/gt8N/Ea/ETVPiB4wsG0yW6eeS3tJP9YXmYszEfwgAkYOCc9Bjmh8WPCXibSvjvpfjnSNBvda09JLaaRLGIyupjIDJtXkEquQcY5oA9R8f6FpOg/BzxZBoel2WmwyadO7x2dukKs2zGSFABOAOa8l/Zx8D+HvFPgXXJdf02G/drtraP7Qu8QgxKSyA/dfn7w54HPFemeOde1TWvg/rp/wCEU1m3m1CFrSxshbme5k3p9944t3lgc9T2HQkCuP8A2d/7S8H+C9ftfEHh3XbOeKf7aiSaXMDOuxV2p8vzPlfu9ec9AcAHO/smXk41jxHZeY32doIZfLJ4DBmGQPof0FfTlfMv7Nuka54V8Y6jD4g8N63YJqFsscM8+mzLEGVt2GYrhcjoTxxj0r6aoA8h+E8v9q/F74natMd8seoRWKEjlUiMiY+nyL+Vbnxx0rX9Z+FGo2fhZZZLpmRpoYc+ZNCDl1XHJPQ47gEc5xWL4AjPhz4+ePdDuTt/tYQ6taZGPMUlt5Hr80mP+Amul+K17400/wAMWd18PLd7m/i1CNrmFEjcyW4V9y4f1bYPl+b070AeBeCLn4Y698PD4J8U2cHh3xLl4xq1zagt5u8lW8zgjHAKMVHYHmvpzQ/D1tpfhPRtGufKvxpVrBDHNJCPmaJAokCnO08Z6nGetfPvxVt9V+LP9lwaB8M9d03Wo5f9JvtQshAmzGNnmk4ZcnOTjGOBya960SF/B3w+0y11aS4vJNNsoYJntbeW4eRgqqSqIpdhn24HJwAaAPmv4sf8nWWP/X5p3/tOvrSvkzx/Za/r3x4h8U6Z4Q8TS6XBc2km86POrOsWzcQpXP8ACcZxX1DouuW2u2zTWtvqFuEOGS+sJrVgfYSKufqMigDzb9o8G3+Gtpq0BCXWl6tb3UD45DDcOv45/CvWIZVngjlTO2RQwz6EZryb9oFW1nRPDvhC0Ym717WIowq8kRIDvf6KWUk162qhVCqAABgADpQAtcp4s8d/8Ipfw2v/AAivibWvOi8zztH077RGnJG1juGG4zj0Irq6KAPnnxN8SPtnxn8E6t/whni63/s+K9H2KfS9tzc74SuYk3fOF6tyMCvS9F+KP9s61bad/wAIN40sPtD7PtN9pHlQxe7tvOBWT4z/AOTivhv/ANcdS/8ASc16jQAUUUUAfK2nEfFb9qa5tvEubrTNNnuFhs5DlPLhJVVx0wWAZh35FZ/x+8L6R4Z+K+i/2DYW+nwXlvFLJb20YSMOJWXcFHAyAOAO2e9dFfeEfFPwy/aCk8WaV4e1DXNFvbmWVhpsJlcJMCXQqPulWORnAOBz1xnfGvT/ABl4u8caPrVv4K1lLOG2URQx2zTzBRIWJk8sMqMc8LuJAGTjOKAPRv2lvFV/4e+HMFlpcrwSatc+RNKhwREFLMoPUZO0fTI714/ql58KT8AoNM0+e2PjBIop2lFjKJTMWUyRmUoAVClhjdt4BGe/uPxg8FXXxT+Glq+iQywahbyC8tra8jMDuNpDRsGxsYg98cgZx1rK8BePvEuieEdP8Nav8OfE0uq6dAtpHJDaqLaVUAVCZXIVeMAnkcZoApeDNduPFn7JuuNrR+1TWOm3tsJJfmL+XEWjY+4BUZ/2c1zP7NHg/QfEnh3XJvEOmw6mI7lYoortfMji3J8zKp4DHgbuvyjBFey+K31WX4J+I5PEEVtBqD6JetLDasWjjzC+FDH7xAwCeATnAxXg/wCz741v/Cega2sXhPWtdtZp0ZZNIt/OZJQp+V1zkAjHzduetADvgnLJ4W/aO1rwzp0j/wBnNNeWjRsxwVhdijfUbcZ/2jUHjLQtIh/az07S4dLso9Olu7MSWa26CF9yqWymMHJJzxzXZ/Bb4b+I1+ImqfEDxhYNpkt088lvaSf6wvMxZmI/hABIwcE56DHND4seEvE2lfHfS/HOkaDe61p6SW00iWMRldTGQGTavIJVcg4xzQB6j4/0LSdB+DniyDQ9LstNhk06d3js7dIVZtmMkKACcAc15L+zj4H8PeKfAuuS6/psN+7XbW0f2hd4hBiUlkB+6/P3hzwOeK9M8c69qmtfB/XT/wAIprNvNqELWljZC3M9zJvT77xxbvLA56nsOhIFcf8As7/2l4P8F6/a+IPDuu2c8U/21Ek0uYGddirtT5fmfK/d6856A4AOd/ZMvJxrHiOy8xvs7QQy+WTwGDMMgfQ/oK+nK+Zf2bdI1zwr4x1GHxB4b1uwTULZY4Z59NmWIMrbsMxXC5HQnjjHpX01QB5D8J5f7V+L3xO1aY75Y9QisUJHKpEZEx9PkX8q3PjjpWv6z8KNRs/CyyyXTMjTQw58yaEHLquOSehx3AI5zisXwBGfDnx88e6Hcnb/AGsIdWtMjHmKS28j1+aTH/ATXS/Fa98aaf4Ys7r4eW73N/FqEbXMKJG5ktwr7lw/q2wfL83p3oA8C8EXPwx174eHwT4ps4PDviXLxjVrm1Bbzd5Kt5nBGOAUYqOwPNfUXhvSf7A8K6To4n+0jT7KG187Zt8zy0C7sZOM4zjJ+tfO/wAVbfVfiz/ZcGgfDPXdN1qOX/Sb7ULIQJsxjZ5pOGXJzk4xjgcmvR/Gd54q8B/BXTNH8NWN/rOv/ZYrD7RZW7z+QVjw8vAJ7YXPcg9sUAYXxYvb/wCKWvR/DfwZiSG2mWbW9R6w22Puxk9znJ2jnIA7Nj1fwj4X0/wZ4WstC0lSLe1TG9vvSMTlnb3JJP6V80eDvGXxZ8D6CulaH8NJPL3mSWebRb1pZ5D1d23jLH6dq9m+B9z4rv8Awnqt/wCO4tRg1K61aWSOG/SSPy4ikZCxo/3UDF8AcUAZ37R4Nv8ADW01aAhLrS9Wt7qB8chhuHX8c/hXrEMqzwRypnbIoYZ9CM15N+0Crazonh3whaMTd69rEUYVeSIkB3v9FLKSa9bVQqhVAAAwAB0oA8is5P7L/a0v4ITiPV9ASWZQODIjAKx9wqEZ969eryPw3GfEP7TnibWYfns9D06PTBIBwZmIZgD/ALOJAR1r1ygAooooAKKKKACiiigAooooAKKKKACiiigAooooAKKKKACiiigAooooAKKKKACiiigAooooAKKKKACiiigAooooAKKKKACiiigAooooAgvrK21LT7ixv4UntbmNoponGVdGGCD9Qa4zwfoXiTwRcQ+Hl8vWPDKkizu3m2XNimCRHIp4kUHhSvI7jHTuqKACiiigAooooA5j4jQare/DzWdO0HTJNTvtQtJbNIkljj2+YhUuS7KMDPbnpxXnn7PnhDxZ4Ft9V0vxT4fks4ruRZ4rsXcEi5A2lCqOWB7g4x1zjjPtVFABRRRQAUUUUAFFFFAHIeNfBU2v3mna5oN4um+I9IctZ3TqWjkQ/ehlA5KN7cjqO+d3QrrVbvTA+v6bHp16rFHiinEyNj+NWwDtPYEAjvWlRQAUUUUAFVtQnubbTp5rGza9uEQmO3WRUMh9NzcD6mrNFAHD+HPBupTeLn8ZeNZrebWPKMFjZ2pLQadCeoUkAtIc/M+B3A4ruKKKACiiigAooooAKKKKACiiigAooooA5j4jQare/DzWdO0HTJNTvtQtJbNIkljj2+YhUuS7KMDPbnpxXnn7PnhDxZ4Ft9V0vxT4fks4ruRZ4rsXcEi5A2lCqOWB7g4x1zjjPtVFABRRRQAUUUUAFFFFAHIeNfBU2v3mna5oN4um+I9IctZ3TqWjkQ/ehlA5KN7cjqO+d3QrrVbvTA+v6bHp16rFHiinEyNj+NWwDtPYEAjvWlRQAUUUUAFVtQnubbTp5rGza9uEQmO3WRUMh9NzcD6mrNFAHD+HPBupTeLn8ZeNZrebWPKMFjZ2pLQadCeoUkAtIc/M+B3A4rY8VzeKGt47Lwha2onuQwfUbyXEdmOOfLHzOxycDgZHJ7HoKKAOf8FeD7LwT4eXTbKSS5lkkae7vJv9ZdTNy0je5/kBXQUUUAFFFFABRRRQAUUUUAFFFFABRRRQAUUUUAFFFFABRRRQAUUUUAFFFFABRRRQAUUUUAFFFFABRRRQAUUUUAFFFFABRRRQAUUUUAFFFFABRRRQAUUUUAFFFFABRRRQAUUUUAFFFFABRRRQAUUUUAFFFFABRRRQAUUUUAFFFFABRRRQAUUUUAFFFFABRRRQAUUUUAFFFFABRRRQAUUUUAFFFFABRRRQAUUUUAFFFFABRRRQAUUUUAf/2Q==)"
      ]
    },
    {
      "cell_type": "markdown",
      "metadata": {
        "id": "53AImI9cwlQl"
      },
      "source": [
        "The score can be 0 < score <= 1. The score can never be zero because the depth of the LCS is never zero (the depth of the root of taxonomy is one).\n",
        "It calculates the similarity based on how similar the word senses are and where the Synsets occur relative to each other in the hypernym tree.\n",
        "\n"
      ]
    },
    {
      "cell_type": "markdown",
      "metadata": {
        "id": "U_bHY0MPt7_F"
      },
      "source": [
        "Now , let’s compare the similarity index of any two words"
      ]
    },
    {
      "cell_type": "code",
      "metadata": {
        "id": "QfpRVZN_HfV0",
        "outputId": "ac221faf-ec17-408e-df8b-8a0d7df29f04",
        "colab": {
          "base_uri": "https://localhost:8080/"
        }
      },
      "source": [
        "w1 = wordnet.synset('ship.n.01')\n",
        "w2 = wordnet.synset('boat.n.01')\n",
        "print(w1.wup_similarity(w2))"
      ],
      "execution_count": 10,
      "outputs": [
        {
          "output_type": "stream",
          "text": [
            "0.9090909090909091\n"
          ],
          "name": "stdout"
        }
      ]
    },
    {
      "cell_type": "code",
      "metadata": {
        "id": "DBXP458yuAkz",
        "outputId": "d0f3de3f-b1d2-499e-fe98-3f40d22b435a",
        "colab": {
          "base_uri": "https://localhost:8080/"
        }
      },
      "source": [
        "w1 = wordnet.synset('ship.n.01')\n",
        "w2 = wordnet.synset('car.n.01')\n",
        "print(w1.wup_similarity(w2))"
      ],
      "execution_count": 11,
      "outputs": [
        {
          "output_type": "stream",
          "text": [
            "0.6956521739130435\n"
          ],
          "name": "stdout"
        }
      ]
    },
    {
      "cell_type": "code",
      "metadata": {
        "id": "3YrYLLlauAoB",
        "outputId": "696ddd09-8436-4ffe-8afd-caf0da822342",
        "colab": {
          "base_uri": "https://localhost:8080/"
        }
      },
      "source": [
        "w1 = wordnet.synset('ship.n.01')\n",
        "w2 = wordnet.synset('cat.n.01')\n",
        "print(w1.wup_similarity(w2))"
      ],
      "execution_count": 12,
      "outputs": [
        {
          "output_type": "stream",
          "text": [
            "0.32\n"
          ],
          "name": "stdout"
        }
      ]
    }
  ]
}